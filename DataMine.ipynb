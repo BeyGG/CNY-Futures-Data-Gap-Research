{
 "cells": [
  {
   "cell_type": "code",
   "execution_count": 1,
   "id": "aa66871d-f63c-440a-a695-3cfc7c7cb7f4",
   "metadata": {},
   "outputs": [],
   "source": [
    "# DATA TRANSFORM FOR CNY \n",
    "\n",
    "# merged - dataframe for futures\n",
    "# merged2 - dataframe for spot\n",
    "# cr_extremes - evening trading session daily futures data\n",
    "# dset, spot_pred - final df's for ML\n",
    "# Data stored in 'dset.csv' "
   ]
  },
  {
   "cell_type": "code",
   "execution_count": 2,
   "id": "0a18eeba",
   "metadata": {},
   "outputs": [],
   "source": [
    "import pandas as pd\n",
    "import numpy as np\n",
    "import matplotlib.pyplot as plt\n",
    "import datetime as dt\n",
    "import functools as ft"
   ]
  },
  {
   "cell_type": "code",
   "execution_count": 3,
   "id": "58332ee8",
   "metadata": {},
   "outputs": [],
   "source": [
    "#Read basic data\n",
    "#Si Futures\n",
    "si = pd.read_csv('SI/SIC.csv', sep = ';')\n",
    "#Cr Futures\n",
    "cr = pd.read_csv('CR/CNYC.csv', sep = ';')\n",
    "#MIX Futures\n",
    "mix = pd.read_csv('MIX/MIXC.csv', sep = ';')\n",
    "#USDRUB_TOM\n",
    "rub = pd.read_csv('USDRUB_TOM/USDRUBT.csv', sep = ';')\n",
    "#CNYRUB_TOM\n",
    "cny = pd.read_csv('CNYRUB_TOM/CNYRUBT.csv', sep = ';')"
   ]
  },
  {
   "cell_type": "code",
   "execution_count": 4,
   "id": "73339817",
   "metadata": {},
   "outputs": [],
   "source": [
    "# Basic column rename\n",
    "si.columns = si.columns.str.replace('>', '').str.replace('<', '')\n",
    "cr.columns = cr.columns.str.replace('>', '').str.replace('<', '')\n",
    "mix.columns = mix.columns.str.replace('>', '').str.replace('<', '')\n",
    "rub.columns = rub.columns.str.replace('>', '').str.replace('<', '')\n",
    "cny.columns = cny.columns.str.replace('>', '').str.replace('<', '')"
   ]
  },
  {
   "cell_type": "code",
   "execution_count": 5,
   "id": "46d8d443",
   "metadata": {},
   "outputs": [],
   "source": [
    "# Date and time to *DT\n",
    "si['DT'] = si['DATE'].astype(str) + si['TIME'].astype(str)\n",
    "si['DT'] = pd.to_datetime(si['DT'])\n",
    "si.reset_index(inplace = True)\n",
    "si = si.iloc[:,1:]"
   ]
  },
  {
   "cell_type": "code",
   "execution_count": 6,
   "id": "156fe71f",
   "metadata": {},
   "outputs": [],
   "source": [
    "# Date and time to *DT\n",
    "mix['DT'] = mix['DATE'].astype(str) + mix['TIME'].astype(str)\n",
    "mix['DT'] = pd.to_datetime(mix['DT'])\n",
    "mix.reset_index(inplace = True)\n",
    "mix = mix.iloc[:,1:]"
   ]
  },
  {
   "cell_type": "code",
   "execution_count": 7,
   "id": "e75cfc8f",
   "metadata": {},
   "outputs": [],
   "source": [
    "# Date and time to *DT\n",
    "cr['DT'] = cr['DATE'].astype(str) + cr['TIME'].astype(str)\n",
    "cr['DT'] = pd.to_datetime(cr['DT'])\n",
    "cr.reset_index(inplace = True)\n",
    "cr = cr.iloc[:,1:]"
   ]
  },
  {
   "cell_type": "code",
   "execution_count": 8,
   "id": "a3244ee3",
   "metadata": {},
   "outputs": [],
   "source": [
    "# Date and time to *DT\n",
    "rub['DT'] = rub['DATE'].astype(str) + rub['TIME'].astype(str)\n",
    "rub['DT'] = pd.to_datetime(rub['DT'])\n",
    "rub.reset_index(inplace = True)\n",
    "rub = rub.iloc[:,1:]"
   ]
  },
  {
   "cell_type": "code",
   "execution_count": 9,
   "id": "7a86fc75",
   "metadata": {},
   "outputs": [],
   "source": [
    "# Date and time to *DT\n",
    "cny['DT'] = cny['DATE'].astype(str) + cny['TIME'].astype(str)\n",
    "cny['DT'] = pd.to_datetime(cny['DT'])\n",
    "cny.reset_index(inplace = True)\n",
    "cny = cny.iloc[:,1:]"
   ]
  },
  {
   "cell_type": "code",
   "execution_count": 10,
   "id": "077e552a",
   "metadata": {},
   "outputs": [],
   "source": [
    "# Column names change\n",
    "col_names_rub = ['DATE', 'TIME', 'RO', 'RH', 'RL', 'RC', 'RV', 'DT']\n",
    "col_names_si = ['DATE', 'TIME', 'SO', 'SH', 'SL', 'SC', 'SV', 'DT']\n",
    "col_names_mix = ['DATE', 'TIME', 'MO', 'MH', 'ML', 'MC', 'MV', 'DT']\n",
    "col_names_cny = ['DATE', 'TIME', 'CNO', 'CNH', 'CNL', 'CNC', 'CNV', 'DT']\n",
    "col_names_cr = ['DATE', 'TIME', 'CO', 'CH', 'CL', 'CC', 'CV', 'DT']\n",
    "rub.columns = col_names_rub\n",
    "si.columns = col_names_si\n",
    "mix.columns = col_names_mix\n",
    "cny.columns = col_names_cny\n",
    "cr.columns = col_names_cr"
   ]
  },
  {
   "cell_type": "code",
   "execution_count": 11,
   "id": "2ac91f1b",
   "metadata": {},
   "outputs": [],
   "source": [
    "# Remove columns DATE AND TIME\n",
    "cny = cny.iloc[:,2:]\n",
    "cr = cr.iloc[:,2:]\n",
    "rub = rub.iloc[:,2:]\n",
    "mix = mix.iloc[:,2:]\n",
    "si = si.iloc[:,2:]"
   ]
  },
  {
   "cell_type": "code",
   "execution_count": 12,
   "id": "afc4d994-85d4-4666-b8b0-8ac5980f6042",
   "metadata": {},
   "outputs": [],
   "source": [
    "# Add average prices\n",
    "si['SAVG'] = (si['SO'] + si['SH'] + si['SL'] + si['SC'])/4\n",
    "cr['CAVG'] = (cr['CO'] + cr['CH'] + cr['CL'] + cr['CC'])/4\n",
    "cny['CNAVG'] = (cny['CNO'] + cny['CNH'] + cny['CNL'] + cny['CNC'])/4\n",
    "mix['MAVG'] = (mix['MO'] + mix['MH'] + mix['ML'] + mix['MC'])/4\n",
    "rub['SAVG'] = (rub['RO'] + rub['RH'] + rub['RL'] + rub['RC'])/4"
   ]
  },
  {
   "cell_type": "code",
   "execution_count": 13,
   "id": "c86e057a-5419-4594-8de9-5e443df6e263",
   "metadata": {},
   "outputs": [],
   "source": [
    "# Convert Open-Close to percetage difference\n",
    "si['SP'] = (si['SC'] - si['SO'])/si['SO']\n",
    "cr['CP'] = (cr['CC'] - cr['CO'])/cr['CO']\n",
    "mix['MP'] = (mix['MC'] - mix['MO'])/mix['MO']\n",
    "cny['CNP'] = (cny['CNC'] - cny['CNO'])/cny['CNO']\n",
    "rub['RP'] = (rub['RC'] - rub['RO'])/rub['RO']"
   ]
  },
  {
   "cell_type": "code",
   "execution_count": 14,
   "id": "a942f9d6-d32d-4c42-aa94-b6ace9d20c23",
   "metadata": {},
   "outputs": [],
   "source": [
    "# Merge all FUTURES in single dataframe for storage\n",
    "# 'merged' df is main for futher data wrangling\n",
    "merged = pd.merge(pd.merge(si, cr , how = 'left', on = 'DT'), mix, how = 'left', on='DT')\n",
    "merged = merged.ffill()"
   ]
  },
  {
   "cell_type": "code",
   "execution_count": 15,
   "id": "09a31419-9819-4e2c-bbae-d3416d56c378",
   "metadata": {},
   "outputs": [],
   "source": [
    "# Move DT to first place\n",
    "fplace = merged.pop('DT')\n",
    "merged.insert(0, 'DT', fplace)"
   ]
  },
  {
   "cell_type": "code",
   "execution_count": 16,
   "id": "3983c6b1-23e0-4b7c-8e25-8f9912f8c936",
   "metadata": {},
   "outputs": [],
   "source": [
    "# Write merged futures data to csv\n",
    "merged.to_csv('futures_all.csv', sep = ';')"
   ]
  },
  {
   "cell_type": "code",
   "execution_count": 17,
   "id": "49717949-d2bb-4877-9b39-7fc4bc6febc5",
   "metadata": {},
   "outputs": [],
   "source": [
    "# Divide evening data with all futures\n",
    "merged_evening_fut =  merged[(merged['DT'].dt.time >= pd.to_datetime('19:00:00').time()) &\n",
    "                   (merged['DT'].dt.time <= pd.to_datetime('23:59:00').time())]"
   ]
  },
  {
   "cell_type": "code",
   "execution_count": 18,
   "id": "ff235fcc-6e3c-4fe2-ac37-bdd7d62d8b44",
   "metadata": {},
   "outputs": [],
   "source": [
    "#Select needed columns in evening data\n",
    "cr_evening = merged_evening_fut[['DT', 'CH', 'CL', 'CAVG']].reset_index(drop = True)"
   ]
  },
  {
   "cell_type": "code",
   "execution_count": 19,
   "id": "788ea834-43ab-4248-adb8-33012fcdaaea",
   "metadata": {},
   "outputs": [],
   "source": [
    "# Calculate extremes for Cr, store them in separate df 'cr_extremes', add first evening value of AVG price.\n",
    "cr_extremes = cr_evening.resample('D', on = 'DT').agg({'CH': 'max', 'CL': 'min','CAVG': 'first'})\n",
    "cr_extremes = cr_extremes.dropna()\n",
    "cr_extremes.reset_index(inplace=True)"
   ]
  },
  {
   "cell_type": "code",
   "execution_count": 20,
   "id": "6c072664-9c4c-4d91-b6b2-627f7801d527",
   "metadata": {},
   "outputs": [],
   "source": [
    "# Calculate max high and min low\n",
    "cr_extremes['DIFF_H'] = abs(cr_extremes['CH'] - cr_extremes['CAVG'])/cr_extremes['CAVG']*100\n",
    "cr_extremes['DIFF_L'] = abs(cr_extremes['CAVG'] - cr_extremes['CL'])/cr_extremes['CAVG']*100"
   ]
  },
  {
   "cell_type": "code",
   "execution_count": 21,
   "id": "c9c9fc97-2489-459e-b565-98b4a16e4eeb",
   "metadata": {},
   "outputs": [],
   "source": [
    "# Compare values and calculate the result\n",
    "def compare_and_assign(diff_h, diff_l):\n",
    "    if diff_h > diff_l:\n",
    "        return diff_h\n",
    "    else:\n",
    "        return -diff_l"
   ]
  },
  {
   "cell_type": "code",
   "execution_count": 22,
   "id": "f11c95bc-b38a-474b-8f33-6818e73a2b25",
   "metadata": {},
   "outputs": [],
   "source": [
    "# Create RES with result movement\n",
    "cr_extremes['RES'] = cr_extremes.apply(lambda row: compare_and_assign(row['DIFF_H'], row['DIFF_L']), axis=1)"
   ]
  },
  {
   "cell_type": "code",
   "execution_count": 23,
   "id": "b921ffd0-b65c-46d2-90a7-1304e3459b07",
   "metadata": {},
   "outputs": [
    {
     "data": {
      "image/png": "[encoded data removed]",
      "text/plain": [
       "<Figure size 800x600 with 1 Axes>"
      ]
     },
     "metadata": {},
     "output_type": "display_data"
    }
   ],
   "source": [
    "# Check the result - evening movement plot graph\n",
    "plt.style.use('bmh')\n",
    "x = cr_extremes['DT']\n",
    "y = cr_extremes['RES']\n",
    "plt.figure(figsize=(8,6))\n",
    "plt.plot(x,y, linewidth=0, **{'color': 'red', 'marker': '.'})\n",
    "plt.show()"
   ]
  },
  {
   "cell_type": "code",
   "execution_count": 24,
   "id": "af060ecb-d668-4c73-87db-f64e22ebf0a9",
   "metadata": {},
   "outputs": [],
   "source": [
    "## Merge all SPOT in single dataframe for storage\n",
    "# 'merged2' df is main for futher data wrangling\n",
    "merged2 = pd.merge(rub, cny, how = 'left', on = 'DT')\n",
    "merged2 = merged2.ffill()"
   ]
  },
  {
   "cell_type": "code",
   "execution_count": 25,
   "id": "3a253716-1f89-4578-9625-dad88785dd10",
   "metadata": {},
   "outputs": [],
   "source": [
    "# Move DT to first place\n",
    "fplace2 = merged2.pop('DT')\n",
    "merged2.insert(0, 'DT', fplace2)"
   ]
  },
  {
   "cell_type": "code",
   "execution_count": 26,
   "id": "8299fd44-b4e9-4279-b1d6-1825d5e35929",
   "metadata": {},
   "outputs": [],
   "source": [
    "# Count Green and Red candles\n",
    "def count_candles(rel):\n",
    "    if rel > 0:\n",
    "        return 1\n",
    "    else:\n",
    "        return 0"
   ]
  },
  {
   "cell_type": "code",
   "execution_count": 27,
   "id": "7c17e942-00aa-498e-b0d7-c31519938c8a",
   "metadata": {},
   "outputs": [],
   "source": [
    "#Create columns with number of Green and Red candles\n",
    "merged2['RELC'] = (merged2['CNC'] - merged2['CNO'])/merged2['CNO']*100\n",
    "merged2['RELR'] = (merged2['RC'] - merged2['RO'])/merged2['RO']*100\n",
    "merged2['RESC'] = merged2.apply(lambda row: count_candles(row['RELC']), axis=1)\n",
    "merged2['RESR'] = merged2.apply(lambda row: count_candles(row['RELR']), axis=1)"
   ]
  },
  {
   "cell_type": "code",
   "execution_count": 28,
   "id": "cdbf9d3f-9b23-46a4-a684-693c8ddbb02d",
   "metadata": {},
   "outputs": [],
   "source": [
    "#Convert to daily data\n",
    "merged2_hl = merged2.resample('D', on = 'DT').agg({'CNO': 'first', 'CNC': 'last',\n",
    "                                                   'RO': 'first', 'RC': 'last',\n",
    "                                                   'RV': 'sum', 'CNV': 'sum',\n",
    "                                                   'RESC': 'sum', 'RESR': 'sum', 'RELR': 'count'})\n",
    "merged2_hl = merged2_hl.dropna()\n",
    "merged2_hl.reset_index(inplace=True)"
   ]
  },
  {
   "cell_type": "code",
   "execution_count": 29,
   "id": "9c7e8bd1-9e52-4495-83a7-a06289991917",
   "metadata": {},
   "outputs": [],
   "source": [
    "# Average volume ratio calculation for USDRUB, using 20 previous days\n",
    "def rel_volr(merged2_hl):\n",
    "    merged2_hl['CVol'] = merged2_hl['RV'] / merged2_hl['RV'].rolling(window=20).mean()\n",
    "    return merged2_hl\n",
    "\n",
    "merged2_hl = rel_volr(merged2_hl.copy())"
   ]
  },
  {
   "cell_type": "code",
   "execution_count": 30,
   "id": "75cf43c4-1f95-47aa-bf1e-f1805cda83b6",
   "metadata": {},
   "outputs": [],
   "source": [
    "# Average volume ratio calculation for CNYRUB, using 20 previous days\n",
    "def rel_volc(merged2_hl):\n",
    "    merged2_hl['RVol'] = merged2_hl['CNV'] / merged2_hl['CNV'].rolling(window=20).mean()\n",
    "    return merged2_hl\n",
    "\n",
    "merged2_hl = rel_volc(merged2_hl.copy())"
   ]
  },
  {
   "cell_type": "code",
   "execution_count": 31,
   "id": "32e5815e-8486-4089-ad41-1a8f65e3de98",
   "metadata": {},
   "outputs": [],
   "source": [
    "# Final independent variables dataframe init\n",
    "spot_pred = pd.DataFrame()\n",
    "spot_pred['DT'] = merged2_hl['DT']"
   ]
  },
  {
   "cell_type": "code",
   "execution_count": 32,
   "id": "25792988-adff-4ac3-b7fb-34a8f11d9926",
   "metadata": {},
   "outputs": [],
   "source": [
    "spot_pred['RChange'] = (merged2_hl['RC'] - merged2_hl['RO'])/merged2_hl['RO']*100\n",
    "spot_pred['CChange'] = (merged2_hl['CNC'] - merged2_hl['CNO'])/merged2_hl['CNO']*100\n",
    "spot_pred['CRatio'] = merged2_hl['RESC']/(merged2_hl['RELR'] - merged2_hl['RESC'])\n",
    "spot_pred['RRatio'] = merged2_hl['RESR']/(merged2_hl['RELR'] - merged2_hl['RESR'])\n",
    "spot_pred['RVol'] = merged2_hl['RVol']\n",
    "spot_pred['CVol'] = merged2_hl['CVol']"
   ]
  },
  {
   "cell_type": "code",
   "execution_count": 33,
   "id": "7f57b6a4-8344-47f7-97ba-6cf74474573c",
   "metadata": {},
   "outputs": [],
   "source": [
    "# Final working dataframe merge\n",
    "dset = pd.merge(spot_pred, cr_extremes, on = 'DT')\n",
    "dset.drop(columns=['DT','CH', 'CL', 'CAVG', 'DIFF_H', 'DIFF_L'], inplace=True)"
   ]
  },
  {
   "cell_type": "code",
   "execution_count": 34,
   "id": "e9978340-fc41-4724-a522-4ffc9a6af191",
   "metadata": {},
   "outputs": [],
   "source": [
    "# Convert evening movement to 1 and 0\n",
    "def res_sign(res):\n",
    "    if res > 0:\n",
    "        return 1\n",
    "    else:\n",
    "        return 0"
   ]
  },
  {
   "cell_type": "code",
   "execution_count": 35,
   "id": "2890f4e3-00b3-41a7-b975-eb31c979533e",
   "metadata": {},
   "outputs": [],
   "source": [
    "dset['Pred'] = dset.apply(lambda row: res_sign(row['RES']), axis=1)"
   ]
  },
  {
   "cell_type": "code",
   "execution_count": 36,
   "id": "4d3e46b7-cc2f-42d6-a73b-60fdf4a9554e",
   "metadata": {},
   "outputs": [],
   "source": [
    "# Write final df to csv (if needed)\n",
    "dset.to_csv('dset.csv', sep = ';')"
   ]
  }
 ],
 "metadata": {
  "kernelspec": {
   "display_name": "Python 3 (ipykernel)",
   "language": "python",
   "name": "python3"
  },
  "language_info": {
   "codemirror_mode": {
    "name": "ipython",
    "version": 3
   },
   "file_extension": ".py",
   "mimetype": "text/x-python",
   "name": "python",
   "nbconvert_exporter": "python",
   "pygments_lexer": "ipython3",
   "version": "3.11.5"
  }
 },
 "nbformat": 4,
 "nbformat_minor": 5
}
