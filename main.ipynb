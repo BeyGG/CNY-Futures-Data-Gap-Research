{
 "cells": [
  {
   "cell_type": "code",
   "execution_count": 30,
   "id": "3daecf79",
   "metadata": {},
   "outputs": [],
   "source": [
    "import pandas as pd"
   ]
  },
  {
   "cell_type": "code",
   "execution_count": 31,
   "id": "f46471f1",
   "metadata": {},
   "outputs": [],
   "source": [
    "import numpy as np"
   ]
  },
  {
   "cell_type": "code",
   "execution_count": 71,
   "id": "78a2dc73",
   "metadata": {},
   "outputs": [],
   "source": [
    "sim3_df = pd.read_csv('C:\\SIDATA\\SPFB.Si-6.23_230317_230615.csv', sep = ';')"
   ]
  },
  {
   "cell_type": "code",
   "execution_count": 72,
   "id": "03056cf0",
   "metadata": {},
   "outputs": [
    {
     "name": "stdout",
     "output_type": "stream",
     "text": [
      "<class 'pandas.core.frame.DataFrame'>\n",
      "RangeIndex: 10663 entries, 0 to 10662\n",
      "Data columns (total 7 columns):\n",
      " #   Column   Non-Null Count  Dtype  \n",
      "---  ------   --------------  -----  \n",
      " 0   <DATE>   10663 non-null  int64  \n",
      " 1   <TIME>   10663 non-null  int64  \n",
      " 2   <OPEN>   10663 non-null  float64\n",
      " 3   <HIGH>   10663 non-null  float64\n",
      " 4   <LOW>    10663 non-null  float64\n",
      " 5   <CLOSE>  10663 non-null  float64\n",
      " 6   <VOL>    10663 non-null  int64  \n",
      "dtypes: float64(4), int64(3)\n",
      "memory usage: 583.3 KB\n"
     ]
    }
   ],
   "source": [
    "sim3_df.info()"
   ]
  },
  {
   "cell_type": "code",
   "execution_count": 73,
   "id": "42723f5f",
   "metadata": {},
   "outputs": [
    {
     "data": {
      "text/html": [
       "<div>\n",
       "<style scoped>\n",
       "    .dataframe tbody tr th:only-of-type {\n",
       "        vertical-align: middle;\n",
       "    }\n",
       "\n",
       "    .dataframe tbody tr th {\n",
       "        vertical-align: top;\n",
       "    }\n",
       "\n",
       "    .dataframe thead th {\n",
       "        text-align: right;\n",
       "    }\n",
       "</style>\n",
       "<table border=\"1\" class=\"dataframe\">\n",
       "  <thead>\n",
       "    <tr style=\"text-align: right;\">\n",
       "      <th></th>\n",
       "      <th>&lt;DATE&gt;</th>\n",
       "      <th>&lt;TIME&gt;</th>\n",
       "      <th>&lt;OPEN&gt;</th>\n",
       "      <th>&lt;HIGH&gt;</th>\n",
       "      <th>&lt;LOW&gt;</th>\n",
       "      <th>&lt;CLOSE&gt;</th>\n",
       "      <th>&lt;VOL&gt;</th>\n",
       "    </tr>\n",
       "  </thead>\n",
       "  <tbody>\n",
       "    <tr>\n",
       "      <th>0</th>\n",
       "      <td>20230317</td>\n",
       "      <td>90000</td>\n",
       "      <td>76330.0</td>\n",
       "      <td>76398.0</td>\n",
       "      <td>76202.0</td>\n",
       "      <td>76267.0</td>\n",
       "      <td>10433</td>\n",
       "    </tr>\n",
       "    <tr>\n",
       "      <th>1</th>\n",
       "      <td>20230317</td>\n",
       "      <td>90500</td>\n",
       "      <td>76272.0</td>\n",
       "      <td>76272.0</td>\n",
       "      <td>76130.0</td>\n",
       "      <td>76181.0</td>\n",
       "      <td>7125</td>\n",
       "    </tr>\n",
       "    <tr>\n",
       "      <th>2</th>\n",
       "      <td>20230317</td>\n",
       "      <td>91000</td>\n",
       "      <td>76185.0</td>\n",
       "      <td>76293.0</td>\n",
       "      <td>76177.0</td>\n",
       "      <td>76287.0</td>\n",
       "      <td>4153</td>\n",
       "    </tr>\n",
       "    <tr>\n",
       "      <th>3</th>\n",
       "      <td>20230317</td>\n",
       "      <td>91500</td>\n",
       "      <td>76287.0</td>\n",
       "      <td>76288.0</td>\n",
       "      <td>76240.0</td>\n",
       "      <td>76250.0</td>\n",
       "      <td>2184</td>\n",
       "    </tr>\n",
       "    <tr>\n",
       "      <th>4</th>\n",
       "      <td>20230317</td>\n",
       "      <td>92000</td>\n",
       "      <td>76249.0</td>\n",
       "      <td>76306.0</td>\n",
       "      <td>76230.0</td>\n",
       "      <td>76278.0</td>\n",
       "      <td>3287</td>\n",
       "    </tr>\n",
       "    <tr>\n",
       "      <th>...</th>\n",
       "      <td>...</td>\n",
       "      <td>...</td>\n",
       "      <td>...</td>\n",
       "      <td>...</td>\n",
       "      <td>...</td>\n",
       "      <td>...</td>\n",
       "      <td>...</td>\n",
       "    </tr>\n",
       "    <tr>\n",
       "      <th>95</th>\n",
       "      <td>20230317</td>\n",
       "      <td>171000</td>\n",
       "      <td>76923.0</td>\n",
       "      <td>76950.0</td>\n",
       "      <td>76894.0</td>\n",
       "      <td>76899.0</td>\n",
       "      <td>6622</td>\n",
       "    </tr>\n",
       "    <tr>\n",
       "      <th>96</th>\n",
       "      <td>20230317</td>\n",
       "      <td>171500</td>\n",
       "      <td>76898.0</td>\n",
       "      <td>76931.0</td>\n",
       "      <td>76884.0</td>\n",
       "      <td>76918.0</td>\n",
       "      <td>6793</td>\n",
       "    </tr>\n",
       "    <tr>\n",
       "      <th>97</th>\n",
       "      <td>20230317</td>\n",
       "      <td>172000</td>\n",
       "      <td>76919.0</td>\n",
       "      <td>76933.0</td>\n",
       "      <td>76915.0</td>\n",
       "      <td>76933.0</td>\n",
       "      <td>3004</td>\n",
       "    </tr>\n",
       "    <tr>\n",
       "      <th>98</th>\n",
       "      <td>20230317</td>\n",
       "      <td>172500</td>\n",
       "      <td>76933.0</td>\n",
       "      <td>76950.0</td>\n",
       "      <td>76910.0</td>\n",
       "      <td>76920.0</td>\n",
       "      <td>3443</td>\n",
       "    </tr>\n",
       "    <tr>\n",
       "      <th>99</th>\n",
       "      <td>20230317</td>\n",
       "      <td>173000</td>\n",
       "      <td>76921.0</td>\n",
       "      <td>76945.0</td>\n",
       "      <td>76909.0</td>\n",
       "      <td>76933.0</td>\n",
       "      <td>3632</td>\n",
       "    </tr>\n",
       "  </tbody>\n",
       "</table>\n",
       "<p>100 rows × 7 columns</p>\n",
       "</div>"
      ],
      "text/plain": [
       "      <DATE>  <TIME>   <OPEN>   <HIGH>    <LOW>  <CLOSE>  <VOL>\n",
       "0   20230317   90000  76330.0  76398.0  76202.0  76267.0  10433\n",
       "1   20230317   90500  76272.0  76272.0  76130.0  76181.0   7125\n",
       "2   20230317   91000  76185.0  76293.0  76177.0  76287.0   4153\n",
       "3   20230317   91500  76287.0  76288.0  76240.0  76250.0   2184\n",
       "4   20230317   92000  76249.0  76306.0  76230.0  76278.0   3287\n",
       "..       ...     ...      ...      ...      ...      ...    ...\n",
       "95  20230317  171000  76923.0  76950.0  76894.0  76899.0   6622\n",
       "96  20230317  171500  76898.0  76931.0  76884.0  76918.0   6793\n",
       "97  20230317  172000  76919.0  76933.0  76915.0  76933.0   3004\n",
       "98  20230317  172500  76933.0  76950.0  76910.0  76920.0   3443\n",
       "99  20230317  173000  76921.0  76945.0  76909.0  76933.0   3632\n",
       "\n",
       "[100 rows x 7 columns]"
      ]
     },
     "execution_count": 73,
     "metadata": {},
     "output_type": "execute_result"
    }
   ],
   "source": [
    "sim3_df.head(100)"
   ]
  },
  {
   "cell_type": "code",
   "execution_count": 74,
   "id": "532bbd14",
   "metadata": {},
   "outputs": [],
   "source": [
    "sim3_df['<DATE>'] = pd.to_datetime(sim3_df['<DATE>'], format = '%Y%m%d')"
   ]
  },
  {
   "cell_type": "code",
   "execution_count": 75,
   "id": "2f61d5ac",
   "metadata": {},
   "outputs": [
    {
     "data": {
      "text/plain": [
       "0   2023-03-17\n",
       "1   2023-03-17\n",
       "2   2023-03-17\n",
       "3   2023-03-17\n",
       "4   2023-03-17\n",
       "Name: <DATE>, dtype: datetime64[ns]"
      ]
     },
     "execution_count": 75,
     "metadata": {},
     "output_type": "execute_result"
    }
   ],
   "source": [
    "sim3_df['<DATE>'].head()"
   ]
  },
  {
   "cell_type": "code",
   "execution_count": 76,
   "id": "b3d52609",
   "metadata": {},
   "outputs": [],
   "source": [
    "def add_zero(value):\n",
    "    if len(str(value)) == 5:\n",
    "        return '0' + str(value)\n",
    "    return str(value)"
   ]
  },
  {
   "cell_type": "code",
   "execution_count": 77,
   "id": "c0d7c769",
   "metadata": {},
   "outputs": [],
   "source": [
    "sim3_df['<TIME>'] = sim3_df['<TIME>'].astype(str).apply(add_zero)"
   ]
  },
  {
   "cell_type": "code",
   "execution_count": 78,
   "id": "e698757c",
   "metadata": {},
   "outputs": [
    {
     "data": {
      "text/plain": [
       "0    090000\n",
       "1    090500\n",
       "2    091000\n",
       "3    091500\n",
       "4    092000\n",
       "Name: <TIME>, dtype: object"
      ]
     },
     "execution_count": 78,
     "metadata": {},
     "output_type": "execute_result"
    }
   ],
   "source": [
    "sim3_df['<TIME>'].head()"
   ]
  },
  {
   "cell_type": "code",
   "execution_count": 80,
   "id": "9d214ed3",
   "metadata": {},
   "outputs": [],
   "source": [
    "sim3_df['<TIME>'] = pd.to_datetime(sim3_df['<TIME>'], format = '%H%M%S').apply(lambda x: x.time())"
   ]
  },
  {
   "cell_type": "code",
   "execution_count": 81,
   "id": "b53a9017",
   "metadata": {},
   "outputs": [
    {
     "data": {
      "text/plain": [
       "0    09:00:00\n",
       "1    09:05:00\n",
       "2    09:10:00\n",
       "3    09:15:00\n",
       "4    09:20:00\n",
       "Name: <TIME>, dtype: object"
      ]
     },
     "execution_count": 81,
     "metadata": {},
     "output_type": "execute_result"
    }
   ],
   "source": [
    "sim3_df['<TIME>'].head()"
   ]
  },
  {
   "cell_type": "code",
   "execution_count": 82,
   "id": "9021930f",
   "metadata": {},
   "outputs": [
    {
     "data": {
      "text/html": [
       "<div>\n",
       "<style scoped>\n",
       "    .dataframe tbody tr th:only-of-type {\n",
       "        vertical-align: middle;\n",
       "    }\n",
       "\n",
       "    .dataframe tbody tr th {\n",
       "        vertical-align: top;\n",
       "    }\n",
       "\n",
       "    .dataframe thead th {\n",
       "        text-align: right;\n",
       "    }\n",
       "</style>\n",
       "<table border=\"1\" class=\"dataframe\">\n",
       "  <thead>\n",
       "    <tr style=\"text-align: right;\">\n",
       "      <th></th>\n",
       "      <th>&lt;DATE&gt;</th>\n",
       "      <th>&lt;TIME&gt;</th>\n",
       "      <th>&lt;OPEN&gt;</th>\n",
       "      <th>&lt;HIGH&gt;</th>\n",
       "      <th>&lt;LOW&gt;</th>\n",
       "      <th>&lt;CLOSE&gt;</th>\n",
       "      <th>&lt;VOL&gt;</th>\n",
       "    </tr>\n",
       "  </thead>\n",
       "  <tbody>\n",
       "    <tr>\n",
       "      <th>0</th>\n",
       "      <td>2023-03-17</td>\n",
       "      <td>09:00:00</td>\n",
       "      <td>76330.0</td>\n",
       "      <td>76398.0</td>\n",
       "      <td>76202.0</td>\n",
       "      <td>76267.0</td>\n",
       "      <td>10433</td>\n",
       "    </tr>\n",
       "    <tr>\n",
       "      <th>1</th>\n",
       "      <td>2023-03-17</td>\n",
       "      <td>09:05:00</td>\n",
       "      <td>76272.0</td>\n",
       "      <td>76272.0</td>\n",
       "      <td>76130.0</td>\n",
       "      <td>76181.0</td>\n",
       "      <td>7125</td>\n",
       "    </tr>\n",
       "    <tr>\n",
       "      <th>2</th>\n",
       "      <td>2023-03-17</td>\n",
       "      <td>09:10:00</td>\n",
       "      <td>76185.0</td>\n",
       "      <td>76293.0</td>\n",
       "      <td>76177.0</td>\n",
       "      <td>76287.0</td>\n",
       "      <td>4153</td>\n",
       "    </tr>\n",
       "    <tr>\n",
       "      <th>3</th>\n",
       "      <td>2023-03-17</td>\n",
       "      <td>09:15:00</td>\n",
       "      <td>76287.0</td>\n",
       "      <td>76288.0</td>\n",
       "      <td>76240.0</td>\n",
       "      <td>76250.0</td>\n",
       "      <td>2184</td>\n",
       "    </tr>\n",
       "    <tr>\n",
       "      <th>4</th>\n",
       "      <td>2023-03-17</td>\n",
       "      <td>09:20:00</td>\n",
       "      <td>76249.0</td>\n",
       "      <td>76306.0</td>\n",
       "      <td>76230.0</td>\n",
       "      <td>76278.0</td>\n",
       "      <td>3287</td>\n",
       "    </tr>\n",
       "  </tbody>\n",
       "</table>\n",
       "</div>"
      ],
      "text/plain": [
       "      <DATE>    <TIME>   <OPEN>   <HIGH>    <LOW>  <CLOSE>  <VOL>\n",
       "0 2023-03-17  09:00:00  76330.0  76398.0  76202.0  76267.0  10433\n",
       "1 2023-03-17  09:05:00  76272.0  76272.0  76130.0  76181.0   7125\n",
       "2 2023-03-17  09:10:00  76185.0  76293.0  76177.0  76287.0   4153\n",
       "3 2023-03-17  09:15:00  76287.0  76288.0  76240.0  76250.0   2184\n",
       "4 2023-03-17  09:20:00  76249.0  76306.0  76230.0  76278.0   3287"
      ]
     },
     "execution_count": 82,
     "metadata": {},
     "output_type": "execute_result"
    }
   ],
   "source": [
    "sim3_df.head()"
   ]
  },
  {
   "cell_type": "code",
   "execution_count": 84,
   "id": "9261d080",
   "metadata": {},
   "outputs": [
    {
     "name": "stdout",
     "output_type": "stream",
     "text": [
      "<class 'pandas.core.frame.DataFrame'>\n",
      "RangeIndex: 10663 entries, 0 to 10662\n",
      "Data columns (total 7 columns):\n",
      " #   Column   Non-Null Count  Dtype         \n",
      "---  ------   --------------  -----         \n",
      " 0   <DATE>   10663 non-null  datetime64[ns]\n",
      " 1   <TIME>   10663 non-null  object        \n",
      " 2   <OPEN>   10663 non-null  float64       \n",
      " 3   <HIGH>   10663 non-null  float64       \n",
      " 4   <LOW>    10663 non-null  float64       \n",
      " 5   <CLOSE>  10663 non-null  float64       \n",
      " 6   <VOL>    10663 non-null  int64         \n",
      "dtypes: datetime64[ns](1), float64(4), int64(1), object(1)\n",
      "memory usage: 583.3+ KB\n"
     ]
    }
   ],
   "source": [
    "sim3_df.info()"
   ]
  },
  {
   "cell_type": "code",
   "execution_count": 86,
   "id": "158f1979",
   "metadata": {},
   "outputs": [],
   "source": [
    "sim3_df['<TIME>'] = pd.to_datetime(sim3_df['<TIME>'], format='%H:%M:%S')"
   ]
  },
  {
   "cell_type": "code",
   "execution_count": 93,
   "id": "b9246714",
   "metadata": {},
   "outputs": [
    {
     "name": "stdout",
     "output_type": "stream",
     "text": [
      "<class 'pandas.core.frame.DataFrame'>\n",
      "RangeIndex: 10663 entries, 0 to 10662\n",
      "Data columns (total 7 columns):\n",
      " #   Column   Non-Null Count  Dtype         \n",
      "---  ------   --------------  -----         \n",
      " 0   <DATE>   10663 non-null  datetime64[ns]\n",
      " 1   <TIME>   10663 non-null  datetime64[ns]\n",
      " 2   <OPEN>   10663 non-null  float64       \n",
      " 3   <HIGH>   10663 non-null  float64       \n",
      " 4   <LOW>    10663 non-null  float64       \n",
      " 5   <CLOSE>  10663 non-null  float64       \n",
      " 6   <VOL>    10663 non-null  int64         \n",
      "dtypes: datetime64[ns](2), float64(4), int64(1)\n",
      "memory usage: 583.3 KB\n"
     ]
    }
   ],
   "source": [
    "sim3_df.info()"
   ]
  },
  {
   "cell_type": "code",
   "execution_count": 97,
   "id": "bd85aab5",
   "metadata": {},
   "outputs": [],
   "source": [
    "sim3_df['<TIME>'] = pd.to_datetime(sim3_df['<TIME>'], format='%H:%M:%S').dt.time"
   ]
  },
  {
   "cell_type": "code",
   "execution_count": 99,
   "id": "8bd9299d",
   "metadata": {},
   "outputs": [],
   "source": [
    "sim3_df['<DTIME>'] = pd.to_datetime(sim3_df['<DATE>'].astype(str) + ' ' + sim3_df['<TIME>'].astype(str))"
   ]
  },
  {
   "cell_type": "code",
   "execution_count": 101,
   "id": "8a66fa0e",
   "metadata": {},
   "outputs": [
    {
     "name": "stdout",
     "output_type": "stream",
     "text": [
      "<class 'pandas.core.frame.DataFrame'>\n",
      "RangeIndex: 10663 entries, 0 to 10662\n",
      "Data columns (total 8 columns):\n",
      " #   Column   Non-Null Count  Dtype         \n",
      "---  ------   --------------  -----         \n",
      " 0   <DATE>   10663 non-null  datetime64[ns]\n",
      " 1   <TIME>   10663 non-null  object        \n",
      " 2   <OPEN>   10663 non-null  float64       \n",
      " 3   <HIGH>   10663 non-null  float64       \n",
      " 4   <LOW>    10663 non-null  float64       \n",
      " 5   <CLOSE>  10663 non-null  float64       \n",
      " 6   <VOL>    10663 non-null  int64         \n",
      " 7   <DTIME>  10663 non-null  datetime64[ns]\n",
      "dtypes: datetime64[ns](2), float64(4), int64(1), object(1)\n",
      "memory usage: 666.6+ KB\n"
     ]
    }
   ],
   "source": [
    "sim3_df.info()"
   ]
  }
 ],
 "metadata": {
  "kernelspec": {
   "display_name": "Python 3 (ipykernel)",
   "language": "python",
   "name": "python3"
  },
  "language_info": {
   "codemirror_mode": {
    "name": "ipython",
    "version": 3
   },
   "file_extension": ".py",
   "mimetype": "text/x-python",
   "name": "python",
   "nbconvert_exporter": "python",
   "pygments_lexer": "ipython3",
   "version": "3.10.9"
  }
 },
 "nbformat": 4,
 "nbformat_minor": 5
}
